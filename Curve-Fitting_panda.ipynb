{
 "cells": [
  {
   "cell_type": "code",
   "execution_count": null,
   "metadata": {},
   "outputs": [],
   "source": [
    "# Modules you need\n",
    "import numpy as np, matplotlib.pyplot as plt, pandas as pd\n",
    "from scipy.optimize import curve_fit\n",
    "\n",
    "\n",
    "# The Vgs-Ids equation\n",
    "def sqr(x,k,vt):\n",
    "    return (k*(x-vt)**2)\n",
    "\n",
    "\n",
    "data = pd.read_csv(\"data.csv\", on_bad_lines='skip')\n",
    "vgs,Ids=data['vgs'],data['Ids']\n",
    "vgs,Ids=vgs[:].to_numpy(dtype='float'),Ids[:].to_numpy(dtype='float')\n",
    "\n",
    "# Fitting function\n",
    "parameters, covariance = curve_fit(sqr, vgs, Ids)\n",
    "fit_k,fit_vt  = parameters[0],parameters[1]\n",
    "\n",
    "print(\"Vt=\",fit_vt)\n",
    "print(\"k=\",fit_k)\n",
    "\n",
    "# Ploting the fit and Exp. Data (only the acceptable range of function)\n",
    "fit_y = sqr(vgs, fit_k, fit_vt)\n",
    "plt.plot(vgs, Ids, 'og', label='Exp. data',alpha=0.6)\n",
    "plt.plot(vgs, fit_y, '-k', label='fit')\n",
    "\n",
    "# This range is based on my experiment your value could be slightly different.\n",
    "plt.xlim(0,5.1)\n",
    "plt.xticks(np.arange(0,5.5,0.5))\n",
    "plt.ylim(-0.1e-3,5.1e-3)\n",
    "plt.yticks(1e-3*np.arange(0,5.5,1),['0','1','2','3','4','5'])\n",
    "\n",
    "plt.xlabel(\"$V_{gs} - [V]$\")\n",
    "plt.ylabel(\"$I_{ds} - [mA]$\")\n",
    "\n",
    "plt.legend()\n",
    "# plt.savefig('fitting')\n",
    "plt.show()"
   ]
  }
 ],
 "metadata": {
  "language_info": {
   "name": "python"
  }
 },
 "nbformat": 4,
 "nbformat_minor": 2
}
